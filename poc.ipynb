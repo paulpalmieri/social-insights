{
 "cells": [
  {
   "cell_type": "markdown",
   "id": "de563912",
   "metadata": {},
   "source": [
    "# Using this notebook\n",
    "### Loading data\n",
    "1. Download an archive from the Meta Account Center (JSON format only)\n",
    "2. Find the conversation you want to analyze\n",
    "3. Put all .json files in the ```data/``` folder (should be a collection of files message_1.json, message_2.json, etc.)\n",
    "4. Run the notebook"
   ]
  },
  {
   "cell_type": "code",
   "execution_count": 1,
   "id": "36dc8845",
   "metadata": {},
   "outputs": [],
   "source": [
    "import json\n",
    "import pandas as pd\n",
    "# import matplotlib.pyplot as plt\n",
    "import glob"
   ]
  },
  {
   "cell_type": "code",
   "execution_count": null,
   "id": "ec59c4d0-a399-4a33-b9cc-a5fd2afbcabf",
   "metadata": {},
   "outputs": [],
   "source": [
    "# load all files in data/ according to pattern message_*.json\n",
    "file_pattern = 'data/message_*.json'\n",
    "files = glob.glob(file_pattern)\n",
    "print(files)\n",
    "\n",
    "dataframes = []\n",
    "for file in files:\n",
    "    with open(file, 'r') as f:\n",
    "        data = json.load(f)\n",
    "        # Assuming each file contains data under a 'messages' key\n",
    "        df = pd.DataFrame(data['messages'])\n",
    "        dataframes.append(df)\n",
    "\n",
    "messages = pd.concat(dataframes, ignore_index=True)\n",
    "\n",
    "messages.info()"
   ]
  },
  {
   "cell_type": "code",
   "execution_count": null,
   "id": "5b47d652",
   "metadata": {},
   "outputs": [],
   "source": [
    "messages.head()"
   ]
  },
  {
   "cell_type": "code",
   "execution_count": null,
   "id": "32061348",
   "metadata": {},
   "outputs": [],
   "source": []
  }
 ],
 "metadata": {
  "kernelspec": {
   "display_name": "Python 3 (ipykernel)",
   "language": "python",
   "name": "python3"
  },
  "language_info": {
   "codemirror_mode": {
    "name": "ipython",
    "version": 3
   },
   "file_extension": ".py",
   "mimetype": "text/x-python",
   "name": "python",
   "nbconvert_exporter": "python",
   "pygments_lexer": "ipython3",
   "version": "3.10.14"
  }
 },
 "nbformat": 4,
 "nbformat_minor": 5
}
