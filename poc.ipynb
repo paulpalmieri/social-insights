{
 "cells": [
  {
   "cell_type": "markdown",
   "id": "de563912",
   "metadata": {},
   "source": [
    "# Using this notebook\n",
    "1. Download an archive from the Meta Account Center (JSON format only)\n",
    "2. Find the conversation you want to analyze\n",
    "3. Put all .json files in the ```data/``` folder (should be a collection of files message_1.json, message_2.json, etc.)\n",
    "4. Run the notebook"
   ]
  },
  {
   "cell_type": "markdown",
   "id": "feeac08d",
   "metadata": {},
   "source": [
    "### Loading\n"
   ]
  },
  {
   "cell_type": "code",
   "execution_count": null,
   "id": "36dc8845",
   "metadata": {},
   "outputs": [],
   "source": [
    "import json\n",
    "import glob\n",
    "import pandas as pd\n",
    "import plotly.express as px"
   ]
  },
  {
   "cell_type": "code",
   "execution_count": null,
   "id": "ec59c4d0-a399-4a33-b9cc-a5fd2afbcabf",
   "metadata": {},
   "outputs": [],
   "source": [
    "# load all files in 'data' folder that follow pattern 'message_*.json'\n",
    "file_pattern = 'data/message_*.json'\n",
    "files = glob.glob(file_pattern)\n",
    "print(files)\n",
    "\n",
    "dataframes = []\n",
    "for file in files:\n",
    "    with open(file, 'r') as f:\n",
    "        data = json.load(f)\n",
    "        df = pd.DataFrame(data['messages']) # only load messages_df\n",
    "        dataframes.append(df)\n",
    "\n",
    "messages_df = pd.concat(dataframes, ignore_index=True)\n",
    "\n",
    "messages_df.head()"
   ]
  },
  {
   "cell_type": "markdown",
   "id": "9dec1539",
   "metadata": {},
   "source": [
    "### Cleaning\n",
    "- fix encoding\n",
    "- parse timestamp into datetime object\n",
    "- parse reactions\n",
    "- add reaction count to each message"
   ]
  },
  {
   "cell_type": "code",
   "execution_count": null,
   "id": "32061348",
   "metadata": {},
   "outputs": [],
   "source": [
    "# fix encoding\n",
    "def correct_encoding(text):\n",
    "    try:\n",
    "        return text.encode('iso-8859-1').decode('utf-8')\n",
    "    except Exception as e:\n",
    "        # Return original text in case of any error\n",
    "        return text\n",
    "\n",
    "# apply the correct function encoding to all columns, iterate over reactions\n",
    "for col in messages_df.columns:\n",
    "    if col == \"reactions\":\n",
    "        for reactions in messages_df[col].dropna():\n",
    "            for reaction in reactions:\n",
    "                reaction['reaction'] = correct_encoding(reaction['reaction'])\n",
    "                reaction['actor'] = correct_encoding(reaction['actor'])\n",
    "    else:\n",
    "        messages_df[col] = messages_df[col].apply(correct_encoding)"
   ]
  },
  {
   "cell_type": "code",
   "execution_count": null,
   "id": "a1f600e8",
   "metadata": {},
   "outputs": [],
   "source": [
    "# parse timestamp into datetime column and sort by datetime\n",
    "messages_df['datetime'] = pd.to_datetime(messages_df['timestamp_ms'], unit='ms')\n",
    "messages_df = messages_df.sort_values(by='datetime', ascending=False)"
   ]
  },
  {
   "cell_type": "code",
   "execution_count": null,
   "id": "a86c4713",
   "metadata": {},
   "outputs": [],
   "source": [
    "messages_df['reaction_count'] = 0\n",
    "\n",
    "# parse JSON reactions column\n",
    "if 'reactions' in messages_df.columns:\n",
    "    messages_df['reactions'] = messages_df['reactions'].apply(lambda x: x if isinstance(x, list) else [])\n",
    "\n",
    "# then apply length function to the reaction column (JSON array)\n",
    "messages_df['reaction_count'] = messages_df['reactions'].apply(len)\n"
   ]
  },
  {
   "cell_type": "markdown",
   "id": "c2149a35",
   "metadata": {},
   "source": [
    "# Simple analysis"
   ]
  },
  {
   "cell_type": "markdown",
   "id": "826f0d1c",
   "metadata": {},
   "source": [
    "### Message distribution by sender"
   ]
  },
  {
   "cell_type": "code",
   "execution_count": null,
   "id": "b2822c6d",
   "metadata": {},
   "outputs": [],
   "source": [
    "\n",
    "sender_sum = messages_df['sender_name'].value_counts().reset_index()\n",
    "sender_sum.columns = ['sender_name', 'count']\n",
    "\n",
    "# Create an interactive bar plot\n",
    "fig = px.bar(sender_sum,\n",
    "             x='sender_name',\n",
    "             y='count',\n",
    "             labels={'sender_name': 'Sender Name', 'count': 'Message Count'},\n",
    "             title='Distribution of Messages by Sender')\n",
    "\n",
    "# Show the plot\n",
    "fig.show()\n"
   ]
  },
  {
   "cell_type": "markdown",
   "id": "e31d6450",
   "metadata": {},
   "source": [
    "### Hourly distribution of messages"
   ]
  },
  {
   "cell_type": "code",
   "execution_count": null,
   "id": "aca032c6",
   "metadata": {},
   "outputs": [],
   "source": [
    "# Ensure 'hour' column is updated with the hour extracted from 'datetime'\n",
    "messages_df['hour'] = messages_df['datetime'].dt.hour\n",
    "\n",
    "# Group the data by hour and sender name, then count the number of messages\n",
    "hourly_distribution = messages_df.groupby('hour').size().reset_index(name='message_count')\n",
    "\n",
    "# Create an interactive bar plot\n",
    "fig = px.bar(hourly_distribution,\n",
    "             x='hour',\n",
    "             y='message_count',\n",
    "             labels={'hour': 'Hour of Day', 'message_count': 'Message Count'},\n",
    "             title='Hourly Distribution of Messages')\n",
    "\n",
    "# Show the plot\n",
    "fig.show()\n"
   ]
  },
  {
   "cell_type": "markdown",
   "id": "24a39cdb",
   "metadata": {},
   "source": [
    "### Show significant senders"
   ]
  },
  {
   "cell_type": "code",
   "execution_count": null,
   "id": "9095bf71",
   "metadata": {},
   "outputs": [],
   "source": [
    "\n",
    "# Calculate the total number of messages\n",
    "total_messages = len(messages_df)\n",
    "\n",
    "# Calculate the number of messages per sender\n",
    "sender_counts = messages_df['sender_name'].value_counts().reset_index()\n",
    "sender_counts.columns = ['sender_name', 'count']\n",
    "\n",
    "# Calculate the percentage of total messages for each sender\n",
    "sender_counts['percentage'] = (sender_counts['count'] / total_messages) * 100\n",
    "\n",
    "# Filter to keep only senders with more than 1% of total messages\n",
    "significant_senders = sender_counts[sender_counts['percentage'] > 0.01]\n",
    "\n",
    "# Display the filtered DataFrame\n",
    "print(significant_senders)"
   ]
  }
 ],
 "metadata": {
  "kernelspec": {
   "display_name": "Python 3 (ipykernel)",
   "language": "python",
   "name": "python3"
  },
  "language_info": {
   "codemirror_mode": {
    "name": "ipython",
    "version": 3
   },
   "file_extension": ".py",
   "mimetype": "text/x-python",
   "name": "python",
   "nbconvert_exporter": "python",
   "pygments_lexer": "ipython3",
   "version": "3.11.2"
  }
 },
 "nbformat": 4,
 "nbformat_minor": 5
}
